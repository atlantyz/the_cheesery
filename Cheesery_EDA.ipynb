{
 "cells": [
  {
   "cell_type": "code",
   "execution_count": 1,
   "id": "69499e54",
   "metadata": {},
   "outputs": [],
   "source": [
    "# Import dependencies for ML mockup\n",
    "import pandas as pd\n",
    "from pathlib import Path\n",
    "import matplotlib.pyplot as plt\n",
    "from sklearn.linear_model import LinearRegression"
   ]
  },
  {
   "cell_type": "code",
   "execution_count": 2,
   "id": "45a30ffb",
   "metadata": {},
   "outputs": [],
   "source": [
    "# Import Dependencies for Database\n",
    "from config import password\n",
    "import sqlalchemy\n",
    "from sqlalchemy.ext.automap import automap_base\n",
    "from sqlalchemy.orm import Session\n",
    "from sqlalchemy import create_engine, func, inspect\n",
    "import psycopg2\n",
    "import pandas as pd"
   ]
  },
  {
   "cell_type": "code",
   "execution_count": 3,
   "id": "dcb92d3d",
   "metadata": {},
   "outputs": [],
   "source": [
    "db_string = f\"postgresql+psycopg2://postgres:\" + password + \"@127.0.0.1:5432/the_cheesery\""
   ]
  },
  {
   "cell_type": "code",
   "execution_count": 4,
   "id": "48b280d5",
   "metadata": {},
   "outputs": [],
   "source": [
    "engine = create_engine(db_string)"
   ]
  },
  {
   "cell_type": "code",
   "execution_count": 5,
   "id": "1e237fb8",
   "metadata": {},
   "outputs": [],
   "source": [
    "inspector = inspect(engine)"
   ]
  },
  {
   "cell_type": "code",
   "execution_count": 6,
   "id": "55a11010",
   "metadata": {},
   "outputs": [
    {
     "data": {
      "text/plain": [
       "['cheese']"
      ]
     },
     "execution_count": 6,
     "metadata": {},
     "output_type": "execute_result"
    }
   ],
   "source": [
    "inspector.get_table_names()"
   ]
  },
  {
   "cell_type": "code",
   "execution_count": 7,
   "id": "cd1a0d4c",
   "metadata": {},
   "outputs": [],
   "source": [
    "session = Session(engine)"
   ]
  },
  {
   "cell_type": "code",
   "execution_count": 8,
   "id": "1e4fc4fa",
   "metadata": {},
   "outputs": [
    {
     "data": {
      "text/plain": [
       "<sqlalchemy.engine.cursor.LegacyCursorResult at 0x241cc1f7e88>"
      ]
     },
     "execution_count": 8,
     "metadata": {},
     "output_type": "execute_result"
    }
   ],
   "source": [
    "engine.execute(\"SELECT * from cheese\")"
   ]
  },
  {
   "cell_type": "code",
   "execution_count": 9,
   "id": "dc5bfbd4",
   "metadata": {},
   "outputs": [
    {
     "name": "stdout",
     "output_type": "stream",
     "text": [
      "['cheese', 'company', 'city', 'price', 'milk', 'country', 'origin', 'classification', 'texture', 'color', 'flavor', 'vegetarian']\n"
     ]
    }
   ],
   "source": [
    "col_names_list = []\n",
    "\n",
    "#i = 0\n",
    "for i in range(len(inspector.get_columns('cheese'))):\n",
    "    col_names_list.append(inspector.get_columns('cheese')[i]['name'])\n",
    "    \n",
    "print(col_names_list)\n"
   ]
  },
  {
   "cell_type": "code",
   "execution_count": 10,
   "id": "aff39bcf",
   "metadata": {},
   "outputs": [],
   "source": [
    "# create a df from database \n",
    "cheese_data_df = pd.DataFrame(columns = col_names_list)"
   ]
  },
  {
   "cell_type": "code",
   "execution_count": 11,
   "id": "1ddf4ec0",
   "metadata": {},
   "outputs": [],
   "source": [
    "# add in data\n",
    "import sys\n",
    "db = engine.execute(\"SELECT * from cheese\")\n",
    "for record in db:\n",
    "    record_series = pd.Series(list(record), index = cheese_data_df.columns)\n",
    "    \n",
    "    cheese_data_df = cheese_data_df.append(record_series, ignore_index=True)"
   ]
  },
  {
   "cell_type": "code",
   "execution_count": 12,
   "id": "def578cf",
   "metadata": {},
   "outputs": [
    {
     "data": {
      "text/html": [
       "<div>\n",
       "<style scoped>\n",
       "    .dataframe tbody tr th:only-of-type {\n",
       "        vertical-align: middle;\n",
       "    }\n",
       "\n",
       "    .dataframe tbody tr th {\n",
       "        vertical-align: top;\n",
       "    }\n",
       "\n",
       "    .dataframe thead th {\n",
       "        text-align: right;\n",
       "    }\n",
       "</style>\n",
       "<table border=\"1\" class=\"dataframe\">\n",
       "  <thead>\n",
       "    <tr style=\"text-align: right;\">\n",
       "      <th></th>\n",
       "      <th>cheese</th>\n",
       "      <th>company</th>\n",
       "      <th>city</th>\n",
       "      <th>price</th>\n",
       "      <th>milk</th>\n",
       "      <th>country</th>\n",
       "      <th>origin</th>\n",
       "      <th>classification</th>\n",
       "      <th>texture</th>\n",
       "      <th>color</th>\n",
       "      <th>flavor</th>\n",
       "      <th>vegetarian</th>\n",
       "    </tr>\n",
       "  </thead>\n",
       "  <tbody>\n",
       "    <tr>\n",
       "      <th>0</th>\n",
       "      <td>crescenza</td>\n",
       "      <td>mozzarella company</td>\n",
       "      <td>dallas</td>\n",
       "      <td>9.39</td>\n",
       "      <td>cow</td>\n",
       "      <td>italy</td>\n",
       "      <td>italian</td>\n",
       "      <td>fresh soft</td>\n",
       "      <td>creamy</td>\n",
       "      <td>white</td>\n",
       "      <td>sweet</td>\n",
       "      <td>yes</td>\n",
       "    </tr>\n",
       "    <tr>\n",
       "      <th>1</th>\n",
       "      <td>smoked scamorza</td>\n",
       "      <td>mozzarella company</td>\n",
       "      <td>dallas</td>\n",
       "      <td>15.59</td>\n",
       "      <td>cow</td>\n",
       "      <td>italy</td>\n",
       "      <td>pasta filata</td>\n",
       "      <td>semi soft</td>\n",
       "      <td>firm</td>\n",
       "      <td>white</td>\n",
       "      <td>smokey</td>\n",
       "      <td>no</td>\n",
       "    </tr>\n",
       "    <tr>\n",
       "      <th>2</th>\n",
       "      <td>smoked mozzarella</td>\n",
       "      <td>mozzarella company</td>\n",
       "      <td>dallas</td>\n",
       "      <td>10.79</td>\n",
       "      <td>cow</td>\n",
       "      <td>italy</td>\n",
       "      <td>mozzarella</td>\n",
       "      <td>semi soft</td>\n",
       "      <td>bouncy</td>\n",
       "      <td>white</td>\n",
       "      <td>smokey</td>\n",
       "      <td>yes</td>\n",
       "    </tr>\n",
       "    <tr>\n",
       "      <th>3</th>\n",
       "      <td>queso oaxaca</td>\n",
       "      <td>mozzarella company</td>\n",
       "      <td>dallas</td>\n",
       "      <td>11.99</td>\n",
       "      <td>cow</td>\n",
       "      <td>mexico</td>\n",
       "      <td>pasta filata</td>\n",
       "      <td>semi hard</td>\n",
       "      <td>bouncy</td>\n",
       "      <td>white</td>\n",
       "      <td>buttery</td>\n",
       "      <td>yes</td>\n",
       "    </tr>\n",
       "    <tr>\n",
       "      <th>4</th>\n",
       "      <td>queso fresco</td>\n",
       "      <td>mozzarella company</td>\n",
       "      <td>dallas</td>\n",
       "      <td>10.79</td>\n",
       "      <td>cow</td>\n",
       "      <td>mexico</td>\n",
       "      <td>cottage</td>\n",
       "      <td>fresh soft</td>\n",
       "      <td>crumbly</td>\n",
       "      <td>white</td>\n",
       "      <td>milky</td>\n",
       "      <td>yes</td>\n",
       "    </tr>\n",
       "    <tr>\n",
       "      <th>...</th>\n",
       "      <td>...</td>\n",
       "      <td>...</td>\n",
       "      <td>...</td>\n",
       "      <td>...</td>\n",
       "      <td>...</td>\n",
       "      <td>...</td>\n",
       "      <td>...</td>\n",
       "      <td>...</td>\n",
       "      <td>...</td>\n",
       "      <td>...</td>\n",
       "      <td>...</td>\n",
       "      <td>...</td>\n",
       "    </tr>\n",
       "    <tr>\n",
       "      <th>98</th>\n",
       "      <td>feta</td>\n",
       "      <td>brazos valley cheese</td>\n",
       "      <td>waco</td>\n",
       "      <td>15</td>\n",
       "      <td>cow</td>\n",
       "      <td>greece</td>\n",
       "      <td>feta</td>\n",
       "      <td>soft brined</td>\n",
       "      <td>crumbly</td>\n",
       "      <td>white</td>\n",
       "      <td>tangy</td>\n",
       "      <td>no</td>\n",
       "    </tr>\n",
       "    <tr>\n",
       "      <th>99</th>\n",
       "      <td>marinated feta</td>\n",
       "      <td>brazos valley cheese</td>\n",
       "      <td>waco</td>\n",
       "      <td>14</td>\n",
       "      <td>cow</td>\n",
       "      <td>greece</td>\n",
       "      <td>feta</td>\n",
       "      <td>soft brined</td>\n",
       "      <td>crumbly</td>\n",
       "      <td>white</td>\n",
       "      <td>herby</td>\n",
       "      <td>no</td>\n",
       "    </tr>\n",
       "    <tr>\n",
       "      <th>100</th>\n",
       "      <td>marinated labneh</td>\n",
       "      <td>brazos valley cheese</td>\n",
       "      <td>waco</td>\n",
       "      <td>14</td>\n",
       "      <td>cow</td>\n",
       "      <td>middle east</td>\n",
       "      <td>labneh</td>\n",
       "      <td>soft</td>\n",
       "      <td>creamy</td>\n",
       "      <td>white</td>\n",
       "      <td>herby</td>\n",
       "      <td>no</td>\n",
       "    </tr>\n",
       "    <tr>\n",
       "      <th>101</th>\n",
       "      <td>mountain maple brie</td>\n",
       "      <td>brazos valley cheese</td>\n",
       "      <td>waco</td>\n",
       "      <td>22.5</td>\n",
       "      <td>cow</td>\n",
       "      <td>united states</td>\n",
       "      <td>brie</td>\n",
       "      <td>soft</td>\n",
       "      <td>creamy</td>\n",
       "      <td>cream</td>\n",
       "      <td>sweet</td>\n",
       "      <td>no</td>\n",
       "    </tr>\n",
       "    <tr>\n",
       "      <th>102</th>\n",
       "      <td>orchard blue</td>\n",
       "      <td>brazos valley cheese</td>\n",
       "      <td>waco</td>\n",
       "      <td>16.5</td>\n",
       "      <td>cow</td>\n",
       "      <td>united states</td>\n",
       "      <td>blue</td>\n",
       "      <td>semi soft</td>\n",
       "      <td>creamy</td>\n",
       "      <td>pale yellow</td>\n",
       "      <td>tangy</td>\n",
       "      <td>no</td>\n",
       "    </tr>\n",
       "  </tbody>\n",
       "</table>\n",
       "<p>103 rows × 12 columns</p>\n",
       "</div>"
      ],
      "text/plain": [
       "                  cheese               company    city  price milk  \\\n",
       "0              crescenza    mozzarella company  dallas   9.39  cow   \n",
       "1        smoked scamorza    mozzarella company  dallas  15.59  cow   \n",
       "2      smoked mozzarella    mozzarella company  dallas  10.79  cow   \n",
       "3           queso oaxaca    mozzarella company  dallas  11.99  cow   \n",
       "4           queso fresco    mozzarella company  dallas  10.79  cow   \n",
       "..                   ...                   ...     ...    ...  ...   \n",
       "98                  feta  brazos valley cheese   waco      15  cow   \n",
       "99        marinated feta  brazos valley cheese   waco      14  cow   \n",
       "100     marinated labneh  brazos valley cheese   waco      14  cow   \n",
       "101  mountain maple brie  brazos valley cheese   waco    22.5  cow   \n",
       "102         orchard blue  brazos valley cheese   waco    16.5  cow   \n",
       "\n",
       "           country        origin classification  texture        color  \\\n",
       "0            italy       italian     fresh soft   creamy        white   \n",
       "1            italy  pasta filata      semi soft     firm        white   \n",
       "2            italy    mozzarella      semi soft   bouncy        white   \n",
       "3           mexico  pasta filata      semi hard   bouncy        white   \n",
       "4           mexico       cottage     fresh soft  crumbly        white   \n",
       "..             ...           ...            ...      ...          ...   \n",
       "98          greece          feta    soft brined  crumbly        white   \n",
       "99          greece          feta    soft brined  crumbly        white   \n",
       "100    middle east        labneh           soft   creamy        white   \n",
       "101  united states          brie           soft   creamy        cream   \n",
       "102  united states          blue      semi soft   creamy  pale yellow   \n",
       "\n",
       "      flavor vegetarian  \n",
       "0      sweet        yes  \n",
       "1     smokey         no  \n",
       "2     smokey        yes  \n",
       "3    buttery        yes  \n",
       "4      milky        yes  \n",
       "..       ...        ...  \n",
       "98     tangy         no  \n",
       "99     herby         no  \n",
       "100    herby         no  \n",
       "101    sweet         no  \n",
       "102    tangy         no  \n",
       "\n",
       "[103 rows x 12 columns]"
      ]
     },
     "execution_count": 12,
     "metadata": {},
     "output_type": "execute_result"
    }
   ],
   "source": [
    "# review df\n",
    "cheese_data_df"
   ]
  },
  {
   "cell_type": "code",
   "execution_count": 13,
   "id": "60464c99",
   "metadata": {},
   "outputs": [],
   "source": [
    "# make a copy of df just in case\n",
    "cheese_data_df_2 = cheese_data_df"
   ]
  },
  {
   "cell_type": "code",
   "execution_count": 14,
   "id": "8828ffc8",
   "metadata": {},
   "outputs": [
    {
     "name": "stdout",
     "output_type": "stream",
     "text": [
      "<class 'pandas.core.frame.DataFrame'>\n",
      "RangeIndex: 103 entries, 0 to 102\n",
      "Data columns (total 12 columns):\n",
      " #   Column          Non-Null Count  Dtype \n",
      "---  ------          --------------  ----- \n",
      " 0   cheese          103 non-null    object\n",
      " 1   company         102 non-null    object\n",
      " 2   city            102 non-null    object\n",
      " 3   price           102 non-null    object\n",
      " 4   milk            103 non-null    object\n",
      " 5   country         103 non-null    object\n",
      " 6   origin          103 non-null    object\n",
      " 7   classification  103 non-null    object\n",
      " 8   texture         103 non-null    object\n",
      " 9   color           103 non-null    object\n",
      " 10  flavor          103 non-null    object\n",
      " 11  vegetarian      102 non-null    object\n",
      "dtypes: object(12)\n",
      "memory usage: 9.8+ KB\n"
     ]
    }
   ],
   "source": [
    "cheese_data_df.info()"
   ]
  },
  {
   "cell_type": "code",
   "execution_count": null,
   "id": "db6bd14a",
   "metadata": {},
   "outputs": [],
   "source": []
  }
 ],
 "metadata": {
  "kernelspec": {
   "display_name": "mlenv",
   "language": "python",
   "name": "mlenv"
  },
  "language_info": {
   "codemirror_mode": {
    "name": "ipython",
    "version": 3
   },
   "file_extension": ".py",
   "mimetype": "text/x-python",
   "name": "python",
   "nbconvert_exporter": "python",
   "pygments_lexer": "ipython3",
   "version": "3.7.13"
  }
 },
 "nbformat": 4,
 "nbformat_minor": 5
}
